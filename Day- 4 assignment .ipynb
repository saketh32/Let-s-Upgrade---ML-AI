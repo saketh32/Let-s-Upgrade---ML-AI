{
 "cells": [
  {
   "cell_type": "code",
   "execution_count": 1,
   "metadata": {},
   "outputs": [
    {
     "name": "stdout",
     "output_type": "stream",
     "text": [
      "(15+10j) (5+0j) (25+75j) (1.5-0.5j)\n"
     ]
    }
   ],
   "source": [
    "# Question 1 :\n",
    "# Research on whether addition, subtraction, multiplication, division, floor division and modulo\n",
    "# operations be performed on complex numbers. Based on your study, implement a Python\n",
    "# program to demonstrate these operations.\n",
    "\n",
    "number_1 = 10 + 5j\n",
    "number_2 = 5 + 5j\n",
    "\n",
    "add = number_1 + number_2\n",
    "sub = number_1 - number_2\n",
    "mul = number_1 * number_2\n",
    "div = number_1/number_2\n",
    "print(add, sub, mul, div)\n",
    "\n",
    "#floor_div = number_1//number_2 ( Won't work)\n",
    "#mod = number_1%number_2 #( wWon't work)"
   ]
  },
  {
   "cell_type": "code",
   "execution_count": 2,
   "metadata": {},
   "outputs": [
    {
     "data": {
      "text/plain": [
       "[1, 3, 5, 7, 9]"
      ]
     },
     "execution_count": 2,
     "metadata": {},
     "output_type": "execute_result"
    }
   ],
   "source": [
    "# Question 2 :\n",
    "# Research on range() functions and its parameters. Create a markdown cell and write in your own\n",
    "# words (no copy-paste from google please) what you understand about it. Implement a small\n",
    "# program of your choice on the same.\n",
    "\n",
    "#here a gives the range(1,10) gives the values starting from 1 to 9 [1,2,3,4,5,6,7,8,9]  \n",
    "a = range(1,10) # inclusive of 1 and exclusive of 10\n",
    "list(a)\n",
    "\n",
    "#using step in range\n",
    "a= range(1,10,2) # Takes a step of 2 \n",
    "list(a)  \n",
    "\n"
   ]
  },
  {
   "cell_type": "code",
   "execution_count": 3,
   "metadata": {},
   "outputs": [
    {
     "name": "stdout",
     "output_type": "stream",
     "text": [
      "1000\n"
     ]
    }
   ],
   "source": [
    "# Question 3:\n",
    "#  Consider two numbers. Perform their subtraction and if the result of subtraction is greater than\n",
    "# 25, print their multiplication result else print their division result.\n",
    "\n",
    "number_1 = 50\n",
    "number_2 = 20\n",
    "\n",
    "if number_1 - number_2 > 25:\n",
    "    print(number_1 * number_2)\n",
    "else:\n",
    "    print(number_1/number_2)"
   ]
  },
  {
   "cell_type": "code",
   "execution_count": 4,
   "metadata": {},
   "outputs": [
    {
     "name": "stdout",
     "output_type": "stream",
     "text": [
      "2\n",
      "14\n",
      "34\n",
      "62\n",
      "98\n"
     ]
    }
   ],
   "source": [
    "# Question 4:\n",
    "# Consider a list of 10 elements of integer values. If the number in the list is divisible by 2, print the\n",
    "# result as \"square of that number minus 2\".\n",
    "\n",
    "list_number = [1,2,3,4,5,6,7,8,9,10]\n",
    "\n",
    "for element in list_number:\n",
    "    if element%2 == 0:\n",
    "        print((element**2) - 2)"
   ]
  },
  {
   "cell_type": "code",
   "execution_count": 5,
   "metadata": {},
   "outputs": [
    {
     "name": "stdout",
     "output_type": "stream",
     "text": [
      "8\n",
      "10\n"
     ]
    }
   ],
   "source": [
    "# Question 5:\n",
    "# Consider a list of 10 elements. Print all the elements in the list which are greater than 7 when that\n",
    "# number is divided 2.\n",
    "\n",
    "list_number = [1,2,3,4,5,6,7,8,9,10]\n",
    "\n",
    "for element in list_number:\n",
    "    if element > 7 and element%2 == 0:\n",
    "        print(element)\n",
    "        "
   ]
  },
  {
   "cell_type": "code",
   "execution_count": null,
   "metadata": {},
   "outputs": [],
   "source": []
  }
 ],
 "metadata": {
  "kernelspec": {
   "display_name": "Python 3",
   "language": "python",
   "name": "python3"
  },
  "language_info": {
   "codemirror_mode": {
    "name": "ipython",
    "version": 3
   },
   "file_extension": ".py",
   "mimetype": "text/x-python",
   "name": "python",
   "nbconvert_exporter": "python",
   "pygments_lexer": "ipython3",
   "version": "3.8.3rc1"
  }
 },
 "nbformat": 4,
 "nbformat_minor": 4
}
