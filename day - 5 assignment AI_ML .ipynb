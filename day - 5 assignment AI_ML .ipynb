{
 "cells": [
  {
   "cell_type": "code",
   "execution_count": 1,
   "metadata": {},
   "outputs": [
    {
     "name": "stdout",
     "output_type": "stream",
     "text": [
      "2 is a prime number\n",
      "3 is a prime number\n",
      "5 is a prime number\n",
      "7 is a prime number\n",
      "11 is a prime number\n",
      "13 is a prime number\n",
      "17 is a prime number\n",
      "19 is a prime number\n",
      "23 is a prime number\n",
      "29 is a prime number\n",
      "31 is a prime number\n",
      "37 is a prime number\n",
      "41 is a prime number\n",
      "43 is a prime number\n",
      "47 is a prime number\n",
      "53 is a prime number\n",
      "59 is a prime number\n",
      "61 is a prime number\n",
      "67 is a prime number\n",
      "71 is a prime number\n"
     ]
    }
   ],
   "source": [
    "# Question 1 :\n",
    "# Write a Python program to find the first 20 non-even prime natural numbers.\n",
    "\n",
    "\n",
    "num =  list(range(1,100))\n",
    "  \n",
    "count = 0\n",
    "for element in num:\n",
    "    if element > 1:  \n",
    "        for i in range(2,element):  \n",
    "            if(element % i) == 0:  \n",
    "                break  \n",
    "        else:  \n",
    "            print(element,\"is a prime number\")\n",
    "            count += 1\n",
    "            if count == 20:\n",
    "                break"
   ]
  },
  {
   "cell_type": "code",
   "execution_count": 2,
   "metadata": {},
   "outputs": [
    {
     "data": {
      "text/plain": [
       "False"
      ]
     },
     "execution_count": 2,
     "metadata": {},
     "output_type": "execute_result"
    }
   ],
   "source": [
    "# Question 2 :\n",
    "# Write a Python program to implement 15 functions of string\n",
    "\n",
    "Name = \"sAkEtH rAo Is A gOoD boY\"\n",
    "\n",
    "Name.capitalize()\n",
    "Name.casefold()\n",
    "Name.count(\"e\")\n",
    "Name.endswith(\"Y\")\n",
    "Name.find(\"I\")\n",
    "Name.isalnum()\n",
    "Name.index(\"I\")\n",
    "Name.isalpha()\n",
    "Name.startswith(\"B\")\n",
    "Name.isdigit()\n",
    "Name.islower()\n",
    "Name.lower()\n",
    "Name.upper()\n",
    "Name.isspace()\n",
    "Name.isupper()"
   ]
  },
  {
   "cell_type": "code",
   "execution_count": 3,
   "metadata": {},
   "outputs": [
    {
     "name": "stdout",
     "output_type": "stream",
     "text": [
      "Yes the given string is palindrome\n"
     ]
    }
   ],
   "source": [
    "# Question 3:\n",
    "# Write a Python program to check if the given string is a Palindrome or Anagram or None of them.\n",
    "# Display the message accordingly to the user.\n",
    "def isPalindrome(string_1): \n",
    "    return string_1 == string_1[::-1] \n",
    "\n",
    "string_1 = \"malayalam\"\n",
    "ans = isPalindrome(string_1) \n",
    "if ans: \n",
    "    print(\"Yes the given string is palindrome\") \n",
    "else: \n",
    "    print(\"No it's not\")"
   ]
  },
  {
   "cell_type": "code",
   "execution_count": 4,
   "metadata": {},
   "outputs": [
    {
     "name": "stdout",
     "output_type": "stream",
     "text": [
      "Resultant list is : drdarshaningleaimltrainer\n"
     ]
    }
   ],
   "source": [
    "test_string =  \"Dr. Darshan Ingle@AI-ML Trainer\"\n",
    "\n",
    "bad_chars = ['@', '.', ' ', \"-\"] \n",
    "\n",
    "for i in bad_chars : \n",
    "    test_string = test_string.replace(i, '')\n",
    "    \n",
    "test_string = test_string.lower() \n",
    "  \n",
    "# printing resultant string  \n",
    "print (\"Resultant list is : \" + str(test_string)) "
   ]
  },
  {
   "cell_type": "code",
   "execution_count": null,
   "metadata": {},
   "outputs": [],
   "source": []
  }
 ],
 "metadata": {
  "kernelspec": {
   "display_name": "Python 3",
   "language": "python",
   "name": "python3"
  },
  "language_info": {
   "codemirror_mode": {
    "name": "ipython",
    "version": 3
   },
   "file_extension": ".py",
   "mimetype": "text/x-python",
   "name": "python",
   "nbconvert_exporter": "python",
   "pygments_lexer": "ipython3",
   "version": "3.8.3rc1"
  }
 },
 "nbformat": 4,
 "nbformat_minor": 4
}
