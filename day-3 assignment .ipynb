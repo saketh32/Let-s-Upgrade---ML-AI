{
 "cells": [
  {
   "cell_type": "code",
   "execution_count": 1,
   "metadata": {},
   "outputs": [
    {
     "name": "stdout",
     "output_type": "stream",
     "text": [
      "add of a and b = (12+7j)\n",
      "Sub of a and b = (-2-1j)\n"
     ]
    }
   ],
   "source": [
    "# Question 1 :\n",
    "# Write a program to subtract two complex numbers in Python.\n",
    "\n",
    "a = 5 + 3j \n",
    "b = 7 + 4j \n",
    "\n",
    "c = a + b\n",
    "d = a - b\n",
    "\n",
    "print(\"add of a and b =\",c)\n",
    "print(\"Sub of a and b =\",d)"
   ]
  },
  {
   "cell_type": "code",
   "execution_count": 2,
   "metadata": {},
   "outputs": [
    {
     "name": "stdout",
     "output_type": "stream",
     "text": [
      "fourth root of a number is: 8.0\n"
     ]
    }
   ],
   "source": [
    "# Question 2 :\n",
    "# Write a program to find the fourth root of a number\n",
    "\n",
    "number = 4096\n",
    "\n",
    "fourth_root = number **(1/4)\n",
    "\n",
    "print(\"fourth root of a number is:\",fourth_root)"
   ]
  },
  {
   "cell_type": "code",
   "execution_count": 4,
   "metadata": {},
   "outputs": [
    {
     "name": "stdout",
     "output_type": "stream",
     "text": [
      "number_1: 9\n",
      "number 2: 6\n"
     ]
    }
   ],
   "source": [
    "# Question 3:\n",
    "# Write a program to swap two numbers in Python with the help of a temporary variable.\n",
    "\n",
    "number_1 = 6\n",
    "number_2 = 9\n",
    "\n",
    "temp_variable = number_1\n",
    "number_1 = number_2\n",
    "number_2 = temp_variable\n",
    "\n",
    "print(\"number_1:\",number_1)\n",
    "print(\"number 2:\",number_2)\n"
   ]
  },
  {
   "cell_type": "code",
   "execution_count": 5,
   "metadata": {},
   "outputs": [
    {
     "name": "stdout",
     "output_type": "stream",
     "text": [
      "number_1: 9\n",
      "number 2: 6\n"
     ]
    }
   ],
   "source": [
    "# Question 4:\n",
    "# Write a program to swap two numbers in Python without using a temporary variable.\n",
    "\n",
    "number_1 = 6\n",
    "number_2 = 9\n",
    "\n",
    "number_1, number_2 = number_2, number_1\n",
    "\n",
    "print(\"number_1:\",number_1)\n",
    "print(\"number 2:\",number_2)"
   ]
  },
  {
   "cell_type": "code",
   "execution_count": 9,
   "metadata": {},
   "outputs": [
    {
     "name": "stdout",
     "output_type": "stream",
     "text": [
      "15.555555555555557\n",
      "288.7055555555555\n"
     ]
    }
   ],
   "source": [
    "# Question 5:\n",
    "# Write a program to convert fahrenheit to kelvin and celsius both.\n",
    "\n",
    "fahrenheit = 60\n",
    "celsius = (fahrenheit - 32) * (5/9)\n",
    "kelvin = celsius + 273.15\n",
    "print(celsius)\n",
    "print(kelvin)"
   ]
  },
  {
   "cell_type": "code",
   "execution_count": 11,
   "metadata": {},
   "outputs": [
    {
     "name": "stdout",
     "output_type": "stream",
     "text": [
      "5\n",
      "10.0\n",
      "Saketh rao\n",
      "(1, 2, 3, 4, 5)\n",
      "[1, 2, 3, 4, 5]\n",
      "{'saketh': 1, 'rao': 2}\n",
      "True\n"
     ]
    }
   ],
   "source": [
    "# Question 6:\n",
    "# Write a program to demonstrate all the available data types in Python. Hint: Use type() function.\n",
    "\n",
    "interger = 5\n",
    "float_number = 10.0\n",
    "string_number = \"Saketh rao\"\n",
    "tuple_num = (1,2,3,4,5)\n",
    "list_num = [1,2,3,4,5]\n",
    "dict_num = {\"saketh\": 1, \"rao\":2}\n",
    "bool_number = True or False\n",
    "\n",
    "print(interger)\n",
    "print(float_number)\n",
    "print(string_number)\n",
    "print(tuple_num)\n",
    "print(list_num)\n",
    "print(dict_num)\n",
    "print(bool_number)\n"
   ]
  },
  {
   "cell_type": "markdown",
   "metadata": {},
   "source": [
    "### Question 7:\n",
    "### Create a Markdown cell in jupyter and list the steps discussed in the session by Dr. Darshan\n",
    "### Ingle sir to create Github profile and upload Githubs Assignment link.\n",
    "\n",
    "1) Go to Github.com\n",
    "\n",
    "2) create a profile by sigining up\n",
    "\n",
    "3) create a new repository\n",
    "\n",
    "4) create a new folder with the appropriate assignment file in your computer\n",
    "\n",
    "5) Go to the repository and click upload an existing file \n",
    "\n",
    "6) upload the file by drag and drop or by any alternative \n",
    "\n",
    "7) done"
   ]
  },
  {
   "cell_type": "code",
   "execution_count": null,
   "metadata": {},
   "outputs": [],
   "source": []
  }
 ],
 "metadata": {
  "kernelspec": {
   "display_name": "Python 3",
   "language": "python",
   "name": "python3"
  },
  "language_info": {
   "codemirror_mode": {
    "name": "ipython",
    "version": 3
   },
   "file_extension": ".py",
   "mimetype": "text/x-python",
   "name": "python",
   "nbconvert_exporter": "python",
   "pygments_lexer": "ipython3",
   "version": "3.7.6"
  }
 },
 "nbformat": 4,
 "nbformat_minor": 4
}
